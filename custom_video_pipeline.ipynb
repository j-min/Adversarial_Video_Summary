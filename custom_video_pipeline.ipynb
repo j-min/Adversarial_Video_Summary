{
  "cells": [
    {
      "cell_type": "markdown",
      "metadata": {
        "id": "view-in-github",
        "colab_type": "text"
      },
      "source": [
        "<a href=\"https://colab.research.google.com/github/j-min/Adversarial_Video_Summary/blob/master/custom_video_pipeline.ipynb\" target=\"_parent\"><img src=\"https://colab.research.google.com/assets/colab-badge.svg\" alt=\"Open In Colab\"/></a>"
      ]
    },
    {
      "cell_type": "code",
      "source": [
        "# Make sure GPU is used\n",
        "!nvidia-smi"
      ],
      "metadata": {
        "colab": {
          "base_uri": "https://localhost:8080/"
        },
        "id": "oGnYHOEDPmuA",
        "outputId": "9d123b1d-758a-4bc8-f46a-7f6e19e17eb1"
      },
      "execution_count": null,
      "outputs": [
        {
          "output_type": "stream",
          "name": "stdout",
          "text": [
            "Tue Mar 28 17:23:06 2023       \n",
            "+-----------------------------------------------------------------------------+\n",
            "| NVIDIA-SMI 525.85.12    Driver Version: 525.85.12    CUDA Version: 12.0     |\n",
            "|-------------------------------+----------------------+----------------------+\n",
            "| GPU  Name        Persistence-M| Bus-Id        Disp.A | Volatile Uncorr. ECC |\n",
            "| Fan  Temp  Perf  Pwr:Usage/Cap|         Memory-Usage | GPU-Util  Compute M. |\n",
            "|                               |                      |               MIG M. |\n",
            "|===============================+======================+======================|\n",
            "|   0  Tesla T4            Off  | 00000000:00:04.0 Off |                    0 |\n",
            "| N/A   42C    P8    10W /  70W |      0MiB / 15360MiB |      0%      Default |\n",
            "|                               |                      |                  N/A |\n",
            "+-------------------------------+----------------------+----------------------+\n",
            "                                                                               \n",
            "+-----------------------------------------------------------------------------+\n",
            "| Processes:                                                                  |\n",
            "|  GPU   GI   CI        PID   Type   Process name                  GPU Memory |\n",
            "|        ID   ID                                                   Usage      |\n",
            "|=============================================================================|\n",
            "|  No running processes found                                                 |\n",
            "+-----------------------------------------------------------------------------+\n"
          ]
        }
      ]
    },
    {
      "cell_type": "code",
      "source": [
        "!unzip HiREST-master.zip\n",
        "# git clone https://github.com/j-min/HiREST"
      ],
      "metadata": {
        "id": "2C9YaOcKGLJe",
        "outputId": "7a4f56a0-09dd-45e6-deda-8ca9e0e44469",
        "colab": {
          "base_uri": "https://localhost:8080/"
        }
      },
      "execution_count": null,
      "outputs": [
        {
          "output_type": "stream",
          "name": "stdout",
          "text": [
            "Archive:  HiREST-master.zip\n",
            "52bba440e2a49d3d7ac67fa6fc99d9d48c460b99\n",
            "   creating: HiREST-master/\n",
            "  inflating: HiREST-master/.gitignore  \n",
            "   creating: HiREST-master/EVA_clip/\n",
            "  inflating: HiREST-master/EVA_clip/CLIP.png  \n",
            "  inflating: HiREST-master/EVA_clip/README.md  \n",
            "  inflating: HiREST-master/EVA_clip/__init__.py  \n",
            "  inflating: HiREST-master/EVA_clip/benchmark.md  \n",
            " extracting: HiREST-master/EVA_clip/bpe_simple_vocab_16e6.txt.gz  \n",
            "  inflating: HiREST-master/EVA_clip/clip.py  \n",
            "  inflating: HiREST-master/EVA_clip/eva_clip.py  \n",
            "  inflating: HiREST-master/EVA_clip/eva_model.py  \n",
            "  inflating: HiREST-master/EVA_clip/model.py  \n",
            "   creating: HiREST-master/EVA_clip/model_configs/\n",
            "  inflating: HiREST-master/EVA_clip/model_configs/EVA_CLIP_g_14.json  \n",
            "  inflating: HiREST-master/EVA_clip/simple_tokenizer.py  \n",
            "  inflating: HiREST-master/EVA_clip/vit_model.py  \n",
            "  inflating: HiREST-master/LICENSE   \n",
            "  inflating: HiREST-master/README.md  \n",
            "  inflating: HiREST-master/args.py   \n",
            "   creating: HiREST-master/assets/\n",
            "  inflating: HiREST-master/assets/joint_model.png  \n",
            "  inflating: HiREST-master/assets/main_figure_compressed.png  \n",
            "   creating: HiREST-master/clip4caption/\n",
            "  inflating: HiREST-master/clip4caption/.gitignore  \n",
            "  inflating: HiREST-master/clip4caption/README.md  \n",
            "   creating: HiREST-master/clip4caption/dataloaders/\n",
            "  inflating: HiREST-master/clip4caption/dataloaders/dataloader_hodini_feats.py  \n",
            "  inflating: HiREST-master/clip4caption/dataloaders/dataloader_msrvtt_feats.py  \n",
            "  inflating: HiREST-master/clip4caption/dataloaders/dataloader_msrvtt_raw.py  \n",
            "  inflating: HiREST-master/clip4caption/dataloaders/dataloader_msvd_feats.py  \n",
            "  inflating: HiREST-master/clip4caption/dataloaders/dataloader_msvd_raw.py  \n",
            "  inflating: HiREST-master/clip4caption/dataloaders/rawvideo_util.py  \n",
            "   creating: HiREST-master/clip4caption/feature_extractor/\n",
            "  inflating: HiREST-master/clip4caption/feature_extractor/README.md  \n",
            "  inflating: HiREST-master/clip4caption/feature_extractor/clip_feature_extractor.py  \n",
            "   creating: HiREST-master/clip4caption/feature_extractor/modules/\n",
            " extracting: HiREST-master/clip4caption/feature_extractor/modules/.gitkeep  \n",
            "   creating: HiREST-master/clip4caption/feature_extractor/modules/cross-base/\n",
            "  inflating: HiREST-master/clip4caption/feature_extractor/modules/cross-base/cross_config.json  \n",
            "  inflating: HiREST-master/clip4caption/feature_extractor/modules/file_utils.py  \n",
            "  inflating: HiREST-master/clip4caption/feature_extractor/modules/modeling.py  \n",
            "  inflating: HiREST-master/clip4caption/feature_extractor/modules/module_clip.py  \n",
            "  inflating: HiREST-master/clip4caption/feature_extractor/modules/module_cross.py  \n",
            "  inflating: HiREST-master/clip4caption/feature_extractor/modules/optimization.py  \n",
            "  inflating: HiREST-master/clip4caption/feature_extractor/modules/until_config.py  \n",
            "  inflating: HiREST-master/clip4caption/feature_extractor/modules/until_module.py  \n",
            "   creating: HiREST-master/clip4caption/feature_extractor/pretrained_clip4clip/\n",
            "   creating: HiREST-master/clip4caption/feature_extractor/pretrained_clip4clip/msrvtt/\n",
            " extracting: HiREST-master/clip4caption/feature_extractor/pretrained_clip4clip/msrvtt/.gitkeep  \n",
            "   creating: HiREST-master/clip4caption/feature_extractor/pretrained_clip4clip/msvd/\n",
            " extracting: HiREST-master/clip4caption/feature_extractor/pretrained_clip4clip/msvd/.gitkeep  \n",
            "  inflating: HiREST-master/clip4caption/feature_extractor/util.py  \n",
            "   creating: HiREST-master/clip4caption/feature_extractor/utility/\n",
            "  inflating: HiREST-master/clip4caption/feature_extractor/utility/dataset.py  \n",
            "  inflating: HiREST-master/clip4caption/feature_extractor/utility/util.py  \n",
            "  inflating: HiREST-master/clip4caption/feature_extractor/utility/vocabulary.py  \n",
            "   creating: HiREST-master/clip4caption/modules/\n",
            "  inflating: HiREST-master/clip4caption/modules/beam.py  \n",
            "   creating: HiREST-master/clip4caption/modules/decoder-base/\n",
            "  inflating: HiREST-master/clip4caption/modules/decoder-base/decoder_config.json  \n",
            "  inflating: HiREST-master/clip4caption/modules/file_utils.py  \n",
            "  inflating: HiREST-master/clip4caption/modules/modeling.py  \n",
            "  inflating: HiREST-master/clip4caption/modules/module_bert.py  \n",
            "  inflating: HiREST-master/clip4caption/modules/module_decoder.py  \n",
            "  inflating: HiREST-master/clip4caption/modules/module_visual.py  \n",
            "  inflating: HiREST-master/clip4caption/modules/optimization.py  \n",
            "  inflating: HiREST-master/clip4caption/modules/tokenization.py  \n",
            "  inflating: HiREST-master/clip4caption/modules/until_config.py  \n",
            "  inflating: HiREST-master/clip4caption/modules/until_module.py  \n",
            "   creating: HiREST-master/clip4caption/modules/visual-base/\n",
            "  inflating: HiREST-master/clip4caption/modules/visual-base/visual_config.json  \n",
            "  inflating: HiREST-master/clip4caption/train.py  \n",
            "  inflating: HiREST-master/custom_video_pipeline.ipynb  \n",
            "   creating: HiREST-master/data/\n",
            "   creating: HiREST-master/data/evaluation/\n",
            "  inflating: HiREST-master/data/evaluation/categories.json  \n",
            "  inflating: HiREST-master/data/evaluation/formatted_moment_evaluation_gt.json  \n",
            "   creating: HiREST-master/data/splits/\n",
            "  inflating: HiREST-master/data/splits/all_data_test.json  \n",
            "  inflating: HiREST-master/data/splits/all_data_test_negative_samples.json  \n",
            "  inflating: HiREST-master/data/splits/all_data_train.json  \n",
            "  inflating: HiREST-master/data/splits/all_data_val.json  \n",
            "  inflating: HiREST-master/dist_utils.py  \n",
            "  inflating: HiREST-master/evaluate.py  \n",
            "   creating: HiREST-master/extraction/\n",
            "  inflating: HiREST-master/extraction/README.md  \n",
            "   creating: HiREST-master/extraction/video_features/\n",
            "  inflating: HiREST-master/extraction/video_features/README.md  \n",
            "  inflating: HiREST-master/extraction/video_features/check_feature_size.py  \n",
            "  inflating: HiREST-master/extraction/video_features/extract_features.py  \n",
            "  inflating: HiREST-master/extraction/video_features/extract_frames.py  \n",
            "   creating: HiREST-master/extraction/whisper_ASR/\n",
            "  inflating: HiREST-master/extraction/whisper_ASR/README.md  \n",
            "  inflating: HiREST-master/extraction/whisper_ASR/extract_ASR.py  \n",
            "  inflating: HiREST-master/extraction/whisper_ASR/extract_ASR_embedding.py  \n",
            "  inflating: HiREST-master/extraction/whisper_ASR/extract_audio.py  \n",
            "  inflating: HiREST-master/hirest_dataset.py  \n",
            "  inflating: HiREST-master/modeling.py  \n",
            "  inflating: HiREST-master/requirements.txt  \n",
            "  inflating: HiREST-master/run.py    \n",
            "   creating: HiREST-master/scripts/\n",
            "  inflating: HiREST-master/scripts/run.sh  \n",
            "  inflating: HiREST-master/scripts/score.bash  \n",
            "  inflating: HiREST-master/setup_inference.ipynb  \n",
            "  inflating: HiREST-master/trainer_base.py  \n",
            "  inflating: HiREST-master/utils.py  \n"
          ]
        }
      ]
    },
    {
      "cell_type": "code",
      "source": [
        "cd HiREST-master"
      ],
      "metadata": {
        "colab": {
          "base_uri": "https://localhost:8080/"
        },
        "id": "ZSonw6uHPvX7",
        "outputId": "642e51ff-ef10-4703-83d7-f563375d07f8"
      },
      "execution_count": null,
      "outputs": [
        {
          "output_type": "stream",
          "name": "stdout",
          "text": [
            "/content/HiREST-master\n"
          ]
        }
      ]
    },
    {
      "cell_type": "markdown",
      "metadata": {
        "id": "IKTGAv0zGACe"
      },
      "source": [
        "# Installation\n",
        "\n",
        "First install required libraries and download all pretrained weights"
      ]
    },
    {
      "cell_type": "code",
      "execution_count": null,
      "metadata": {
        "id": "jhilbHmKGACh",
        "outputId": "59036874-bb0b-45c5-943d-8683cbfdf064",
        "colab": {
          "base_uri": "https://localhost:8080/"
        }
      },
      "outputs": [
        {
          "output_type": "stream",
          "name": "stdout",
          "text": [
            "Looking in indexes: https://pypi.org/simple, https://us-python.pkg.dev/colab-wheels/public/simple/\n",
            "Collecting git+https://github.com/openai/whisper.git@eff383b27b783e280c089475852ba83f20f64998 (from -r requirements.txt (line 21))\n",
            "  Cloning https://github.com/openai/whisper.git (to revision eff383b27b783e280c089475852ba83f20f64998) to /tmp/pip-req-build-skxraei_\n",
            "  Running command git clone --filter=blob:none --quiet https://github.com/openai/whisper.git /tmp/pip-req-build-skxraei_\n",
            "  Running command git rev-parse -q --verify 'sha^eff383b27b783e280c089475852ba83f20f64998'\n",
            "  Running command git fetch -q https://github.com/openai/whisper.git eff383b27b783e280c089475852ba83f20f64998\n",
            "  Running command git checkout -q eff383b27b783e280c089475852ba83f20f64998\n",
            "  Resolved https://github.com/openai/whisper.git to commit eff383b27b783e280c089475852ba83f20f64998\n",
            "  Preparing metadata (setup.py) ... \u001b[?25l\u001b[?25hdone\n",
            "Collecting git+https://github.com/bckim92/language-evaluation.git (from -r requirements.txt (line 22))\n",
            "  Cloning https://github.com/bckim92/language-evaluation.git to /tmp/pip-req-build-m9yegoqp\n",
            "  Running command git clone --filter=blob:none --quiet https://github.com/bckim92/language-evaluation.git /tmp/pip-req-build-m9yegoqp\n",
            "  Resolved https://github.com/bckim92/language-evaluation.git to commit 8e9e03feb7f5e605f20fc0c8dba0e24532a26216\n",
            "  Preparing metadata (setup.py) ... \u001b[?25l\u001b[?25hdone\n",
            "Collecting git+https://github.com/openai/CLIP.git (from -r requirements.txt (line 23))\n",
            "  Cloning https://github.com/openai/CLIP.git to /tmp/pip-req-build-s5ij8gjy\n",
            "  Running command git clone --filter=blob:none --quiet https://github.com/openai/CLIP.git /tmp/pip-req-build-s5ij8gjy\n",
            "  Resolved https://github.com/openai/CLIP.git to commit a9b1bf5920416aaeaec965c25dd9e8f98c864f16\n",
            "  Preparing metadata (setup.py) ... \u001b[?25l\u001b[?25hdone\n",
            "Requirement already satisfied: torch in /usr/local/lib/python3.9/dist-packages (from -r requirements.txt (line 1)) (1.13.1+cu116)\n",
            "Requirement already satisfied: torchvision in /usr/local/lib/python3.9/dist-packages (from -r requirements.txt (line 2)) (0.14.1+cu116)\n",
            "Requirement already satisfied: opencv-python in /usr/local/lib/python3.9/dist-packages (from -r requirements.txt (line 3)) (4.7.0.72)\n",
            "Collecting sentence-transformers\n",
            "  Downloading sentence-transformers-2.2.2.tar.gz (85 kB)\n",
            "\u001b[2K     \u001b[90m━━━━━━━━━━━━━━━━━━━━━━━━━━━━━━━━━━━━━━━━\u001b[0m \u001b[32m86.0/86.0 KB\u001b[0m \u001b[31m8.8 MB/s\u001b[0m eta \u001b[36m0:00:00\u001b[0m\n",
            "\u001b[?25h  Preparing metadata (setup.py) ... \u001b[?25l\u001b[?25hdone\n",
            "Collecting accelerate\n",
            "  Downloading accelerate-0.18.0-py3-none-any.whl (215 kB)\n",
            "\u001b[2K     \u001b[90m━━━━━━━━━━━━━━━━━━━━━━━━━━━━━━━━━━━━━━\u001b[0m \u001b[32m215.3/215.3 KB\u001b[0m \u001b[31m24.7 MB/s\u001b[0m eta \u001b[36m0:00:00\u001b[0m\n",
            "\u001b[?25hCollecting ujson\n",
            "  Downloading ujson-5.7.0-cp39-cp39-manylinux_2_17_x86_64.manylinux2014_x86_64.whl (52 kB)\n",
            "\u001b[2K     \u001b[90m━━━━━━━━━━━━━━━━━━━━━━━━━━━━━━━━━━━━━━━\u001b[0m \u001b[32m52.8/52.8 KB\u001b[0m \u001b[31m277.5 kB/s\u001b[0m eta \u001b[36m0:00:00\u001b[0m\n",
            "\u001b[?25hRequirement already satisfied: pandas in /usr/local/lib/python3.9/dist-packages (from -r requirements.txt (line 7)) (1.4.4)\n",
            "Collecting wandb\n",
            "  Downloading wandb-0.14.0-py3-none-any.whl (2.0 MB)\n",
            "\u001b[2K     \u001b[90m━━━━━━━━━━━━━━━━━━━━━━━━━━━━━━━━━━━━━━━━\u001b[0m \u001b[32m2.0/2.0 MB\u001b[0m \u001b[31m86.3 MB/s\u001b[0m eta \u001b[36m0:00:00\u001b[0m\n",
            "\u001b[?25hCollecting ftfy\n",
            "  Downloading ftfy-6.1.1-py3-none-any.whl (53 kB)\n",
            "\u001b[2K     \u001b[90m━━━━━━━━━━━━━━━━━━━━━━━━━━━━━━━━━━━━━━━━\u001b[0m \u001b[32m53.1/53.1 KB\u001b[0m \u001b[31m6.3 MB/s\u001b[0m eta \u001b[36m0:00:00\u001b[0m\n",
            "\u001b[?25hRequirement already satisfied: regex in /usr/local/lib/python3.9/dist-packages (from -r requirements.txt (line 10)) (2022.10.31)\n",
            "Requirement already satisfied: tqdm in /usr/local/lib/python3.9/dist-packages (from -r requirements.txt (line 11)) (4.65.0)\n",
            "Collecting srt\n",
            "  Downloading srt-3.5.3.tar.gz (28 kB)\n",
            "  Preparing metadata (setup.py) ... \u001b[?25l\u001b[?25hdone\n",
            "Requirement already satisfied: IPython in /usr/local/lib/python3.9/dist-packages (from -r requirements.txt (line 13)) (7.9.0)\n",
            "Collecting kornia\n",
            "  Downloading kornia-0.6.10-py2.py3-none-any.whl (612 kB)\n",
            "\u001b[2K     \u001b[90m━━━━━━━━━━━━━━━━━━━━━━━━━━━━━━━━━━━━━━\u001b[0m \u001b[32m612.0/612.0 KB\u001b[0m \u001b[31m48.5 MB/s\u001b[0m eta \u001b[36m0:00:00\u001b[0m\n",
            "\u001b[?25hRequirement already satisfied: gdown in /usr/local/lib/python3.9/dist-packages (from -r requirements.txt (line 15)) (4.6.4)\n",
            "Collecting pickle5\n",
            "  Downloading pickle5-0.0.11.tar.gz (132 kB)\n",
            "\u001b[2K     \u001b[90m━━━━━━━━━━━━━━━━━━━━━━━━━━━━━━━━━━━━━━\u001b[0m \u001b[32m132.1/132.1 KB\u001b[0m \u001b[31m17.1 MB/s\u001b[0m eta \u001b[36m0:00:00\u001b[0m\n",
            "\u001b[?25h  Preparing metadata (setup.py) ... \u001b[?25l\u001b[?25hdone\n",
            "Collecting pycocoevalcap\n",
            "  Downloading pycocoevalcap-1.2-py3-none-any.whl (104.3 MB)\n",
            "\u001b[2K     \u001b[90m━━━━━━━━━━━━━━━━━━━━━━━━━━━━━━━━━━━━━━\u001b[0m \u001b[32m104.3/104.3 MB\u001b[0m \u001b[31m10.1 MB/s\u001b[0m eta \u001b[36m0:00:00\u001b[0m\n",
            "\u001b[?25hCollecting timm\n",
            "  Downloading timm-0.6.13-py3-none-any.whl (549 kB)\n",
            "\u001b[2K     \u001b[90m━━━━━━━━━━━━━━━━━━━━━━━━━━━━━━━━━━━━━━\u001b[0m \u001b[32m549.1/549.1 KB\u001b[0m \u001b[31m43.1 MB/s\u001b[0m eta \u001b[36m0:00:00\u001b[0m\n",
            "\u001b[?25hCollecting bert-score\n",
            "  Downloading bert_score-0.3.13-py3-none-any.whl (61 kB)\n",
            "\u001b[2K     \u001b[90m━━━━━━━━━━━━━━━━━━━━━━━━━━━━━━━━━━━━━━━━\u001b[0m \u001b[32m61.1/61.1 KB\u001b[0m \u001b[31m6.6 MB/s\u001b[0m eta \u001b[36m0:00:00\u001b[0m\n",
            "\u001b[?25hCollecting boto3\n",
            "  Downloading boto3-1.26.100-py3-none-any.whl (135 kB)\n",
            "\u001b[2K     \u001b[90m━━━━━━━━━━━━━━━━━━━━━━━━━━━━━━━━━━━━━━\u001b[0m \u001b[32m135.5/135.5 KB\u001b[0m \u001b[31m16.0 MB/s\u001b[0m eta \u001b[36m0:00:00\u001b[0m\n",
            "\u001b[?25hRequirement already satisfied: typing-extensions in /usr/local/lib/python3.9/dist-packages (from torch->-r requirements.txt (line 1)) (4.5.0)\n",
            "Requirement already satisfied: pillow!=8.3.*,>=5.3.0 in /usr/local/lib/python3.9/dist-packages (from torchvision->-r requirements.txt (line 2)) (8.4.0)\n",
            "Requirement already satisfied: numpy in /usr/local/lib/python3.9/dist-packages (from torchvision->-r requirements.txt (line 2)) (1.22.4)\n",
            "Requirement already satisfied: requests in /usr/local/lib/python3.9/dist-packages (from torchvision->-r requirements.txt (line 2)) (2.27.1)\n",
            "Collecting transformers<5.0.0,>=4.6.0\n",
            "  Downloading transformers-4.27.3-py3-none-any.whl (6.8 MB)\n",
            "\u001b[2K     \u001b[90m━━━━━━━━━━━━━━━━━━━━━━━━━━━━━━━━━━━━━━━━\u001b[0m \u001b[32m6.8/6.8 MB\u001b[0m \u001b[31m77.4 MB/s\u001b[0m eta \u001b[36m0:00:00\u001b[0m\n",
            "\u001b[?25hRequirement already satisfied: scikit-learn in /usr/local/lib/python3.9/dist-packages (from sentence-transformers->-r requirements.txt (line 4)) (1.2.2)\n",
            "Requirement already satisfied: scipy in /usr/local/lib/python3.9/dist-packages (from sentence-transformers->-r requirements.txt (line 4)) (1.10.1)\n",
            "Requirement already satisfied: nltk in /usr/local/lib/python3.9/dist-packages (from sentence-transformers->-r requirements.txt (line 4)) (3.8.1)\n",
            "Collecting sentencepiece\n",
            "  Downloading sentencepiece-0.1.97-cp39-cp39-manylinux_2_17_x86_64.manylinux2014_x86_64.whl (1.3 MB)\n",
            "\u001b[2K     \u001b[90m━━━━━━━━━━━━━━━━━━━━━━━━━━━━━━━━━━━━━━━━\u001b[0m \u001b[32m1.3/1.3 MB\u001b[0m \u001b[31m58.0 MB/s\u001b[0m eta \u001b[36m0:00:00\u001b[0m\n",
            "\u001b[?25hCollecting huggingface-hub>=0.4.0\n",
            "  Downloading huggingface_hub-0.13.3-py3-none-any.whl (199 kB)\n",
            "\u001b[2K     \u001b[90m━━━━━━━━━━━━━━━━━━━━━━━━━━━━━━━━━━━━━━\u001b[0m \u001b[32m199.8/199.8 KB\u001b[0m \u001b[31m25.1 MB/s\u001b[0m eta \u001b[36m0:00:00\u001b[0m\n",
            "\u001b[?25hRequirement already satisfied: pyyaml in /usr/local/lib/python3.9/dist-packages (from accelerate->-r requirements.txt (line 5)) (6.0)\n",
            "Requirement already satisfied: packaging>=20.0 in /usr/local/lib/python3.9/dist-packages (from accelerate->-r requirements.txt (line 5)) (23.0)\n",
            "Requirement already satisfied: psutil in /usr/local/lib/python3.9/dist-packages (from accelerate->-r requirements.txt (line 5)) (5.9.4)\n",
            "Requirement already satisfied: python-dateutil>=2.8.1 in /usr/local/lib/python3.9/dist-packages (from pandas->-r requirements.txt (line 7)) (2.8.2)\n",
            "Requirement already satisfied: pytz>=2020.1 in /usr/local/lib/python3.9/dist-packages (from pandas->-r requirements.txt (line 7)) (2022.7.1)\n",
            "Collecting pathtools\n",
            "  Downloading pathtools-0.1.2.tar.gz (11 kB)\n",
            "  Preparing metadata (setup.py) ... \u001b[?25l\u001b[?25hdone\n",
            "Requirement already satisfied: Click!=8.0.0,>=7.0 in /usr/local/lib/python3.9/dist-packages (from wandb->-r requirements.txt (line 8)) (8.1.3)\n",
            "Requirement already satisfied: protobuf!=4.21.0,<5,>=3.15.0 in /usr/local/lib/python3.9/dist-packages (from wandb->-r requirements.txt (line 8)) (3.19.6)\n",
            "Collecting docker-pycreds>=0.4.0\n",
            "  Downloading docker_pycreds-0.4.0-py2.py3-none-any.whl (9.0 kB)\n",
            "Collecting sentry-sdk>=1.0.0\n",
            "  Downloading sentry_sdk-1.18.0-py2.py3-none-any.whl (194 kB)\n",
            "\u001b[2K     \u001b[90m━━━━━━━━━━━━━━━━━━━━━━━━━━━━━━━━━━━━━━\u001b[0m \u001b[32m194.8/194.8 KB\u001b[0m \u001b[31m20.9 MB/s\u001b[0m eta \u001b[36m0:00:00\u001b[0m\n",
            "\u001b[?25hRequirement already satisfied: appdirs>=1.4.3 in /usr/local/lib/python3.9/dist-packages (from wandb->-r requirements.txt (line 8)) (1.4.4)\n",
            "Requirement already satisfied: setuptools in /usr/local/lib/python3.9/dist-packages (from wandb->-r requirements.txt (line 8)) (67.6.0)\n",
            "Collecting setproctitle\n",
            "  Downloading setproctitle-1.3.2-cp39-cp39-manylinux_2_5_x86_64.manylinux1_x86_64.manylinux_2_17_x86_64.manylinux2014_x86_64.whl (30 kB)\n",
            "Collecting GitPython!=3.1.29,>=1.0.0\n",
            "  Downloading GitPython-3.1.31-py3-none-any.whl (184 kB)\n",
            "\u001b[2K     \u001b[90m━━━━━━━━━━━━━━━━━━━━━━━━━━━━━━━━━━━━━━\u001b[0m \u001b[32m184.3/184.3 KB\u001b[0m \u001b[31m20.6 MB/s\u001b[0m eta \u001b[36m0:00:00\u001b[0m\n",
            "\u001b[?25hRequirement already satisfied: wcwidth>=0.2.5 in /usr/local/lib/python3.9/dist-packages (from ftfy->-r requirements.txt (line 9)) (0.2.6)\n",
            "Requirement already satisfied: decorator in /usr/local/lib/python3.9/dist-packages (from IPython->-r requirements.txt (line 13)) (4.4.2)\n",
            "Requirement already satisfied: backcall in /usr/local/lib/python3.9/dist-packages (from IPython->-r requirements.txt (line 13)) (0.2.0)\n",
            "Requirement already satisfied: pickleshare in /usr/local/lib/python3.9/dist-packages (from IPython->-r requirements.txt (line 13)) (0.7.5)\n",
            "Requirement already satisfied: pygments in /usr/local/lib/python3.9/dist-packages (from IPython->-r requirements.txt (line 13)) (2.14.0)\n",
            "Requirement already satisfied: prompt-toolkit<2.1.0,>=2.0.0 in /usr/local/lib/python3.9/dist-packages (from IPython->-r requirements.txt (line 13)) (2.0.10)\n",
            "Requirement already satisfied: traitlets>=4.2 in /usr/local/lib/python3.9/dist-packages (from IPython->-r requirements.txt (line 13)) (5.7.1)\n",
            "Collecting jedi>=0.10\n",
            "  Downloading jedi-0.18.2-py2.py3-none-any.whl (1.6 MB)\n",
            "\u001b[2K     \u001b[90m━━━━━━━━━━━━━━━━━━━━━━━━━━━━━━━━━━━━━━━━\u001b[0m \u001b[32m1.6/1.6 MB\u001b[0m \u001b[31m84.7 MB/s\u001b[0m eta \u001b[36m0:00:00\u001b[0m\n",
            "\u001b[?25hRequirement already satisfied: pexpect in /usr/local/lib/python3.9/dist-packages (from IPython->-r requirements.txt (line 13)) (4.8.0)\n",
            "Requirement already satisfied: beautifulsoup4 in /usr/local/lib/python3.9/dist-packages (from gdown->-r requirements.txt (line 15)) (4.11.2)\n",
            "Requirement already satisfied: filelock in /usr/local/lib/python3.9/dist-packages (from gdown->-r requirements.txt (line 15)) (3.10.2)\n",
            "Requirement already satisfied: six in /usr/local/lib/python3.9/dist-packages (from gdown->-r requirements.txt (line 15)) (1.16.0)\n",
            "Requirement already satisfied: pycocotools>=2.0.2 in /usr/local/lib/python3.9/dist-packages (from pycocoevalcap->-r requirements.txt (line 17)) (2.0.6)\n",
            "Requirement already satisfied: matplotlib in /usr/local/lib/python3.9/dist-packages (from bert-score->-r requirements.txt (line 19)) (3.7.1)\n",
            "Collecting botocore<1.30.0,>=1.29.100\n",
            "  Downloading botocore-1.29.100-py3-none-any.whl (10.6 MB)\n",
            "\u001b[2K     \u001b[90m━━━━━━━━━━━━━━━━━━━━━━━━━━━━━━━━━━━━━━━\u001b[0m \u001b[32m10.6/10.6 MB\u001b[0m \u001b[31m102.3 MB/s\u001b[0m eta \u001b[36m0:00:00\u001b[0m\n",
            "\u001b[?25hCollecting jmespath<2.0.0,>=0.7.1\n",
            "  Downloading jmespath-1.0.1-py3-none-any.whl (20 kB)\n",
            "Collecting s3transfer<0.7.0,>=0.6.0\n",
            "  Downloading s3transfer-0.6.0-py3-none-any.whl (79 kB)\n",
            "\u001b[2K     \u001b[90m━━━━━━━━━━━━━━━━━━━━━━━━━━━━━━━━━━━━━━━━\u001b[0m \u001b[32m79.6/79.6 KB\u001b[0m \u001b[31m9.7 MB/s\u001b[0m eta \u001b[36m0:00:00\u001b[0m\n",
            "\u001b[?25hRequirement already satisfied: more-itertools in /usr/local/lib/python3.9/dist-packages (from whisper==1.0->-r requirements.txt (line 21)) (9.1.0)\n",
            "Collecting ffmpeg-python==0.2.0\n",
            "  Downloading ffmpeg_python-0.2.0-py3-none-any.whl (25 kB)\n",
            "Requirement already satisfied: future in /usr/local/lib/python3.9/dist-packages (from ffmpeg-python==0.2.0->whisper==1.0->-r requirements.txt (line 21)) (0.18.3)\n",
            "Requirement already satisfied: scikit-image in /usr/local/lib/python3.9/dist-packages (from language-evaluation==0.1.0->-r requirements.txt (line 22)) (0.19.3)\n",
            "Requirement already satisfied: absl-py in /usr/local/lib/python3.9/dist-packages (from language-evaluation==0.1.0->-r requirements.txt (line 22)) (1.4.0)\n",
            "Collecting colorlog\n",
            "  Downloading colorlog-6.7.0-py2.py3-none-any.whl (11 kB)\n",
            "Requirement already satisfied: urllib3<1.27,>=1.25.4 in /usr/local/lib/python3.9/dist-packages (from botocore<1.30.0,>=1.29.100->boto3->-r requirements.txt (line 20)) (1.26.15)\n",
            "Collecting gitdb<5,>=4.0.1\n",
            "  Downloading gitdb-4.0.10-py3-none-any.whl (62 kB)\n",
            "\u001b[2K     \u001b[90m━━━━━━━━━━━━━━━━━━━━━━━━━━━━━━━━━━━━━━━━\u001b[0m \u001b[32m62.7/62.7 KB\u001b[0m \u001b[31m7.6 MB/s\u001b[0m eta \u001b[36m0:00:00\u001b[0m\n",
            "\u001b[?25hRequirement already satisfied: parso<0.9.0,>=0.8.0 in /usr/local/lib/python3.9/dist-packages (from jedi>=0.10->IPython->-r requirements.txt (line 13)) (0.8.3)\n",
            "Requirement already satisfied: pyparsing>=2.3.1 in /usr/local/lib/python3.9/dist-packages (from matplotlib->bert-score->-r requirements.txt (line 19)) (3.0.9)\n",
            "Requirement already satisfied: contourpy>=1.0.1 in /usr/local/lib/python3.9/dist-packages (from matplotlib->bert-score->-r requirements.txt (line 19)) (1.0.7)\n",
            "Requirement already satisfied: kiwisolver>=1.0.1 in /usr/local/lib/python3.9/dist-packages (from matplotlib->bert-score->-r requirements.txt (line 19)) (1.4.4)\n",
            "Requirement already satisfied: importlib-resources>=3.2.0 in /usr/local/lib/python3.9/dist-packages (from matplotlib->bert-score->-r requirements.txt (line 19)) (5.12.0)\n",
            "Requirement already satisfied: fonttools>=4.22.0 in /usr/local/lib/python3.9/dist-packages (from matplotlib->bert-score->-r requirements.txt (line 19)) (4.39.2)\n",
            "Requirement already satisfied: cycler>=0.10 in /usr/local/lib/python3.9/dist-packages (from matplotlib->bert-score->-r requirements.txt (line 19)) (0.11.0)\n",
            "Requirement already satisfied: charset-normalizer~=2.0.0 in /usr/local/lib/python3.9/dist-packages (from requests->torchvision->-r requirements.txt (line 2)) (2.0.12)\n",
            "Requirement already satisfied: certifi>=2017.4.17 in /usr/local/lib/python3.9/dist-packages (from requests->torchvision->-r requirements.txt (line 2)) (2022.12.7)\n",
            "Requirement already satisfied: idna<4,>=2.5 in /usr/local/lib/python3.9/dist-packages (from requests->torchvision->-r requirements.txt (line 2)) (3.4)\n",
            "Collecting tokenizers!=0.11.3,<0.14,>=0.11.1\n",
            "  Downloading tokenizers-0.13.2-cp39-cp39-manylinux_2_17_x86_64.manylinux2014_x86_64.whl (7.6 MB)\n",
            "\u001b[2K     \u001b[90m━━━━━━━━━━━━━━━━━━━━━━━━━━━━━━━━━━━━━━━━\u001b[0m \u001b[32m7.6/7.6 MB\u001b[0m \u001b[31m105.5 MB/s\u001b[0m eta \u001b[36m0:00:00\u001b[0m\n",
            "\u001b[?25hRequirement already satisfied: soupsieve>1.2 in /usr/local/lib/python3.9/dist-packages (from beautifulsoup4->gdown->-r requirements.txt (line 15)) (2.4)\n",
            "Requirement already satisfied: joblib in /usr/local/lib/python3.9/dist-packages (from nltk->sentence-transformers->-r requirements.txt (line 4)) (1.1.1)\n",
            "Requirement already satisfied: ptyprocess>=0.5 in /usr/local/lib/python3.9/dist-packages (from pexpect->IPython->-r requirements.txt (line 13)) (0.7.0)\n",
            "Requirement already satisfied: PySocks!=1.5.7,>=1.5.6 in /usr/local/lib/python3.9/dist-packages (from requests->torchvision->-r requirements.txt (line 2)) (1.7.1)\n",
            "Requirement already satisfied: PyWavelets>=1.1.1 in /usr/local/lib/python3.9/dist-packages (from scikit-image->language-evaluation==0.1.0->-r requirements.txt (line 22)) (1.4.1)\n",
            "Requirement already satisfied: networkx>=2.2 in /usr/local/lib/python3.9/dist-packages (from scikit-image->language-evaluation==0.1.0->-r requirements.txt (line 22)) (3.0)\n",
            "Requirement already satisfied: tifffile>=2019.7.26 in /usr/local/lib/python3.9/dist-packages (from scikit-image->language-evaluation==0.1.0->-r requirements.txt (line 22)) (2023.3.21)\n",
            "Requirement already satisfied: imageio>=2.4.1 in /usr/local/lib/python3.9/dist-packages (from scikit-image->language-evaluation==0.1.0->-r requirements.txt (line 22)) (2.25.1)\n",
            "Requirement already satisfied: threadpoolctl>=2.0.0 in /usr/local/lib/python3.9/dist-packages (from scikit-learn->sentence-transformers->-r requirements.txt (line 4)) (3.1.0)\n",
            "Collecting smmap<6,>=3.0.1\n",
            "  Downloading smmap-5.0.0-py3-none-any.whl (24 kB)\n",
            "Requirement already satisfied: zipp>=3.1.0 in /usr/local/lib/python3.9/dist-packages (from importlib-resources>=3.2.0->matplotlib->bert-score->-r requirements.txt (line 19)) (3.15.0)\n",
            "Building wheels for collected packages: sentence-transformers, srt, pickle5, whisper, language-evaluation, clip, pathtools\n",
            "  Building wheel for sentence-transformers (setup.py) ... \u001b[?25l\u001b[?25hdone\n",
            "  Created wheel for sentence-transformers: filename=sentence_transformers-2.2.2-py3-none-any.whl size=125942 sha256=bc990ad9463540c914a01771a1759d84fcacfdb07f5e16bdbce824cc066cb979\n",
            "  Stored in directory: /root/.cache/pip/wheels/71/67/06/162a3760c40d74dd40bc855d527008d26341c2b0ecf3e8e11f\n",
            "  Building wheel for srt (setup.py) ... \u001b[?25l\u001b[?25hdone\n",
            "  Created wheel for srt: filename=srt-3.5.3-py3-none-any.whl size=22445 sha256=98bfc55966e13f6b37dcba698d658fcdf300f1b4da51bd7239278ae40f73401b\n",
            "  Stored in directory: /root/.cache/pip/wheels/69/cb/6a/5e5977c5c1fab3b94ff429718103884855b0d5671ed9880100\n",
            "  Building wheel for pickle5 (setup.py) ... \u001b[?25l\u001b[?25hdone\n",
            "  Created wheel for pickle5: filename=pickle5-0.0.11-cp39-cp39-linux_x86_64.whl size=255895 sha256=53bd4aeeeabd1cac96dddf2e56e8e386011ebb86276599a76c40a2b936cbe33b\n",
            "  Stored in directory: /root/.cache/pip/wheels/f2/7a/49/9bef8878949914ecb90c08fc5bf30a05e17f475fe7e08b63a8\n",
            "  Building wheel for whisper (setup.py) ... \u001b[?25l\u001b[?25hdone\n",
            "  Created wheel for whisper: filename=whisper-1.0-py3-none-any.whl size=1175239 sha256=ffb1170edd084e24e7b1696d8f1e60746ef2c0da73e72d4d8c3e7b0f4a18ae7f\n",
            "  Stored in directory: /root/.cache/pip/wheels/dd/89/2b/7fc7b14ee71513b56f55027bbbe542180e1037ab3b2c25c625\n",
            "  Building wheel for language-evaluation (setup.py) ... \u001b[?25l\u001b[?25hdone\n",
            "  Created wheel for language-evaluation: filename=language_evaluation-0.1.0-py3-none-any.whl size=42696072 sha256=7cbeebb764deb0caf7f9708e5fee088b20572bcbbc82b7cb0a8d89a2b9340a80\n",
            "  Stored in directory: /tmp/pip-ephem-wheel-cache-7j322b5j/wheels/42/77/2e/c4eb4427f92d0448dabf7035fbff4963bf9d3e8802851adc35\n",
            "  Building wheel for clip (setup.py) ... \u001b[?25l\u001b[?25hdone\n",
            "  Created wheel for clip: filename=clip-1.0-py3-none-any.whl size=1369398 sha256=617607e48d8af64afaeb28237fcad58d6b453380901fdc0e957b2819b1acfd70\n",
            "  Stored in directory: /tmp/pip-ephem-wheel-cache-7j322b5j/wheels/c8/e4/e1/11374c111387672fc2068dfbe0d4b424cb9cdd1b2e184a71b5\n",
            "  Building wheel for pathtools (setup.py) ... \u001b[?25l\u001b[?25hdone\n",
            "  Created wheel for pathtools: filename=pathtools-0.1.2-py3-none-any.whl size=8807 sha256=c0170ea1efaf84767fd5a68698f809605eed5b06b73a0b9b349b267bd56274af\n",
            "  Stored in directory: /root/.cache/pip/wheels/b7/0a/67/ada2a22079218c75a88361c0782855cc72aebc4d18d0289d05\n",
            "Successfully built sentence-transformers srt pickle5 whisper language-evaluation clip pathtools\n",
            "Installing collected packages: tokenizers, sentencepiece, pickle5, pathtools, ujson, srt, smmap, setproctitle, sentry-sdk, jmespath, jedi, ftfy, ffmpeg-python, docker-pycreds, colorlog, kornia, huggingface-hub, gitdb, botocore, accelerate, transformers, timm, s3transfer, language-evaluation, GitPython, clip, whisper, wandb, sentence-transformers, pycocoevalcap, boto3, bert-score\n",
            "Successfully installed GitPython-3.1.31 accelerate-0.18.0 bert-score-0.3.13 boto3-1.26.100 botocore-1.29.100 clip-1.0 colorlog-6.7.0 docker-pycreds-0.4.0 ffmpeg-python-0.2.0 ftfy-6.1.1 gitdb-4.0.10 huggingface-hub-0.13.3 jedi-0.18.2 jmespath-1.0.1 kornia-0.6.10 language-evaluation-0.1.0 pathtools-0.1.2 pickle5-0.0.11 pycocoevalcap-1.2 s3transfer-0.6.0 sentence-transformers-2.2.2 sentencepiece-0.1.97 sentry-sdk-1.18.0 setproctitle-1.3.2 smmap-5.0.0 srt-3.5.3 timm-0.6.13 tokenizers-0.13.2 transformers-4.27.3 ujson-5.7.0 wandb-0.14.0 whisper-1.0\n"
          ]
        }
      ],
      "source": [
        "!pip install -r requirements.txt"
      ]
    },
    {
      "cell_type": "markdown",
      "source": [
        "# Download Checkpoints"
      ],
      "metadata": {
        "id": "tLJ1lRoUQY-G"
      }
    },
    {
      "cell_type": "code",
      "execution_count": null,
      "metadata": {
        "id": "BfMJ8QJYGACi"
      },
      "outputs": [],
      "source": [
        "!mkdir ./checkpoints/\n",
        "!mkdir ./checkpoints/hirest_joint_model/\n",
        "!mkdir ./pretrained_weights/"
      ]
    },
    {
      "cell_type": "code",
      "execution_count": null,
      "metadata": {
        "id": "DVQG8FZaGACi",
        "outputId": "6ab92159-8937-45b1-8cab-67571e8d2ad3",
        "colab": {
          "base_uri": "https://localhost:8080/"
        }
      },
      "outputs": [
        {
          "output_type": "stream",
          "name": "stdout",
          "text": [
            "Downloading...\n",
            "From: https://drive.google.com/uc?id=17p476sL5_KZoQ2h4e1TU7-qWH4VqzReT\n",
            "To: /content/HiREST-master/clip4caption_vit-b-32_model.bin\n",
            "100% 236M/236M [00:02<00:00, 97.2MB/s]\n",
            "--2023-03-28 17:25:47--  https://huggingface.co/BAAI/EVA/resolve/main/eva_clip_psz14.pt\n",
            "Resolving huggingface.co (huggingface.co)... 52.2.178.255, 35.173.225.216, 34.203.133.210, ...\n",
            "Connecting to huggingface.co (huggingface.co)|52.2.178.255|:443... connected.\n",
            "HTTP request sent, awaiting response... 302 Found\n",
            "Location: https://cdn-lfs.huggingface.co/repos/58/f1/58f17426d51756a1aa3793fad0651594b6c14d7bf99c577181cb2e0614f61817/fe1d3a90bb88c3816a8c708b8a16c11c93cc323ec9e7bc7a0e8b979449fa9785?response-content-disposition=attachment%3B+filename*%3DUTF-8%27%27eva_clip_psz14.pt%3B+filename%3D%22eva_clip_psz14.pt%22%3B&Expires=1680283548&Policy=eyJTdGF0ZW1lbnQiOlt7IlJlc291cmNlIjoiaHR0cHM6Ly9jZG4tbGZzLmh1Z2dpbmdmYWNlLmNvL3JlcG9zLzU4L2YxLzU4ZjE3NDI2ZDUxNzU2YTFhYTM3OTNmYWQwNjUxNTk0YjZjMTRkN2JmOTljNTc3MTgxY2IyZTA2MTRmNjE4MTcvZmUxZDNhOTBiYjg4YzM4MTZhOGM3MDhiOGExNmMxMWM5M2NjMzIzZWM5ZTdiYzdhMGU4Yjk3OTQ0OWZhOTc4NT9yZXNwb25zZS1jb250ZW50LWRpc3Bvc2l0aW9uPSoiLCJDb25kaXRpb24iOnsiRGF0ZUxlc3NUaGFuIjp7IkFXUzpFcG9jaFRpbWUiOjE2ODAyODM1NDh9fX1dfQ__&Signature=W0U5NJMy8hHgL1xGm63Vqg%7EhUN3KtRF3ekZ-zPsqVqz-v35qhyV5IzC06Wu%7Efaxh2bBR7-Bmk-0VkOmy-7wN0ROgWpezresY8dEMPOwfjtd9RM6purtIwW86dFPwQ1cLVhI6ITpRrUODJKSJLwmFbvisLhOLXHbep%7EbgXwFhjYQIpo97nC3JXqeTMfbBlompiNtV17%7ESRJ7v2%7EsSX9ZwPFJSjv5MWMyVBR6jGnpRaIJ5H15gDECRJRZt0S01RXDpc06Dz3ylBcTe-tO1Re89vMTeUs-5nHPvRE9-bbj0MQ-UDIDQ-aspnvO5Fv8j4wq5ri658Fks3CwDdY-w7LNlXg__&Key-Pair-Id=KVTP0A1DKRTAX [following]\n",
            "--2023-03-28 17:25:48--  https://cdn-lfs.huggingface.co/repos/58/f1/58f17426d51756a1aa3793fad0651594b6c14d7bf99c577181cb2e0614f61817/fe1d3a90bb88c3816a8c708b8a16c11c93cc323ec9e7bc7a0e8b979449fa9785?response-content-disposition=attachment%3B+filename*%3DUTF-8%27%27eva_clip_psz14.pt%3B+filename%3D%22eva_clip_psz14.pt%22%3B&Expires=1680283548&Policy=eyJTdGF0ZW1lbnQiOlt7IlJlc291cmNlIjoiaHR0cHM6Ly9jZG4tbGZzLmh1Z2dpbmdmYWNlLmNvL3JlcG9zLzU4L2YxLzU4ZjE3NDI2ZDUxNzU2YTFhYTM3OTNmYWQwNjUxNTk0YjZjMTRkN2JmOTljNTc3MTgxY2IyZTA2MTRmNjE4MTcvZmUxZDNhOTBiYjg4YzM4MTZhOGM3MDhiOGExNmMxMWM5M2NjMzIzZWM5ZTdiYzdhMGU4Yjk3OTQ0OWZhOTc4NT9yZXNwb25zZS1jb250ZW50LWRpc3Bvc2l0aW9uPSoiLCJDb25kaXRpb24iOnsiRGF0ZUxlc3NUaGFuIjp7IkFXUzpFcG9jaFRpbWUiOjE2ODAyODM1NDh9fX1dfQ__&Signature=W0U5NJMy8hHgL1xGm63Vqg%7EhUN3KtRF3ekZ-zPsqVqz-v35qhyV5IzC06Wu%7Efaxh2bBR7-Bmk-0VkOmy-7wN0ROgWpezresY8dEMPOwfjtd9RM6purtIwW86dFPwQ1cLVhI6ITpRrUODJKSJLwmFbvisLhOLXHbep%7EbgXwFhjYQIpo97nC3JXqeTMfbBlompiNtV17%7ESRJ7v2%7EsSX9ZwPFJSjv5MWMyVBR6jGnpRaIJ5H15gDECRJRZt0S01RXDpc06Dz3ylBcTe-tO1Re89vMTeUs-5nHPvRE9-bbj0MQ-UDIDQ-aspnvO5Fv8j4wq5ri658Fks3CwDdY-w7LNlXg__&Key-Pair-Id=KVTP0A1DKRTAX\n",
            "Resolving cdn-lfs.huggingface.co (cdn-lfs.huggingface.co)... 54.192.150.84, 54.192.150.69, 54.192.150.21, ...\n",
            "Connecting to cdn-lfs.huggingface.co (cdn-lfs.huggingface.co)|54.192.150.84|:443... connected.\n",
            "HTTP request sent, awaiting response... 200 OK\n",
            "Length: 2273012515 (2.1G) [binary/octet-stream]\n",
            "Saving to: ‘eva_clip_psz14.pt’\n",
            "\n",
            "eva_clip_psz14.pt   100%[===================>]   2.12G  13.8MB/s    in 2m 8s   \n",
            "\n",
            "2023-03-28 17:27:57 (16.9 MB/s) - ‘eva_clip_psz14.pt’ saved [2273012515/2273012515]\n",
            "\n",
            "--2023-03-28 17:27:57--  https://huggingface.co/j-min/HiREST-baseline/resolve/main/HiREST_BEST.pth\n",
            "Resolving huggingface.co (huggingface.co)... 54.82.45.103, 34.203.133.210, 35.173.225.216, ...\n",
            "Connecting to huggingface.co (huggingface.co)|54.82.45.103|:443... connected.\n",
            "HTTP request sent, awaiting response... 302 Found\n",
            "Location: https://cdn-lfs.huggingface.co/repos/43/e5/43e5477f8142d4d657272c2d83709064f52cea70061d7f463fe4e9973cc4707b/9f3c207007614fe25a07ec7788f35d122e4bb5eafdfa2775f86cdc3eb6b38100?response-content-disposition=attachment%3B+filename*%3DUTF-8%27%27HiREST_BEST.pth%3B+filename%3D%22HiREST_BEST.pth%22%3B&Expires=1680283678&Policy=eyJTdGF0ZW1lbnQiOlt7IlJlc291cmNlIjoiaHR0cHM6Ly9jZG4tbGZzLmh1Z2dpbmdmYWNlLmNvL3JlcG9zLzQzL2U1LzQzZTU0NzdmODE0MmQ0ZDY1NzI3MmMyZDgzNzA5MDY0ZjUyY2VhNzAwNjFkN2Y0NjNmZTRlOTk3M2NjNDcwN2IvOWYzYzIwNzAwNzYxNGZlMjVhMDdlYzc3ODhmMzVkMTIyZTRiYjVlYWZkZmEyNzc1Zjg2Y2RjM2ViNmIzODEwMD9yZXNwb25zZS1jb250ZW50LWRpc3Bvc2l0aW9uPSoiLCJDb25kaXRpb24iOnsiRGF0ZUxlc3NUaGFuIjp7IkFXUzpFcG9jaFRpbWUiOjE2ODAyODM2Nzh9fX1dfQ__&Signature=YcRn8vQ4kSChPRnTwt4EBOG86iTJha9QY-gbu8z5aJBMBs5jZBkz22oEVpNO27Ql1WbfaQjkSPzBFK-D%7EuqhtJXJdVKpkpleWvQ5xeFMs7MckKwh%7E2ezf0yua38RHsZxe0Fe3kLBujNaUbL%7EmnJrsYFblE7N2wl0av5I79s9Xu2nBMMR9UTe8KrQEVT9uga0v-4CGgoXdjUZxyjb%7EKUisLaeMSJ2bZzD08aNpVwD%7Ep0nds9wlVKCorB7eerNtWHyWjMZaz6uRGVqkBYVyYgWBuhlsT7eoph4x3samWzMqbzF2Bnny2iwHwhIhJdiYSq%7EVGyK1cer3s0qhJJENUnwmA__&Key-Pair-Id=KVTP0A1DKRTAX [following]\n",
            "--2023-03-28 17:27:58--  https://cdn-lfs.huggingface.co/repos/43/e5/43e5477f8142d4d657272c2d83709064f52cea70061d7f463fe4e9973cc4707b/9f3c207007614fe25a07ec7788f35d122e4bb5eafdfa2775f86cdc3eb6b38100?response-content-disposition=attachment%3B+filename*%3DUTF-8%27%27HiREST_BEST.pth%3B+filename%3D%22HiREST_BEST.pth%22%3B&Expires=1680283678&Policy=eyJTdGF0ZW1lbnQiOlt7IlJlc291cmNlIjoiaHR0cHM6Ly9jZG4tbGZzLmh1Z2dpbmdmYWNlLmNvL3JlcG9zLzQzL2U1LzQzZTU0NzdmODE0MmQ0ZDY1NzI3MmMyZDgzNzA5MDY0ZjUyY2VhNzAwNjFkN2Y0NjNmZTRlOTk3M2NjNDcwN2IvOWYzYzIwNzAwNzYxNGZlMjVhMDdlYzc3ODhmMzVkMTIyZTRiYjVlYWZkZmEyNzc1Zjg2Y2RjM2ViNmIzODEwMD9yZXNwb25zZS1jb250ZW50LWRpc3Bvc2l0aW9uPSoiLCJDb25kaXRpb24iOnsiRGF0ZUxlc3NUaGFuIjp7IkFXUzpFcG9jaFRpbWUiOjE2ODAyODM2Nzh9fX1dfQ__&Signature=YcRn8vQ4kSChPRnTwt4EBOG86iTJha9QY-gbu8z5aJBMBs5jZBkz22oEVpNO27Ql1WbfaQjkSPzBFK-D%7EuqhtJXJdVKpkpleWvQ5xeFMs7MckKwh%7E2ezf0yua38RHsZxe0Fe3kLBujNaUbL%7EmnJrsYFblE7N2wl0av5I79s9Xu2nBMMR9UTe8KrQEVT9uga0v-4CGgoXdjUZxyjb%7EKUisLaeMSJ2bZzD08aNpVwD%7Ep0nds9wlVKCorB7eerNtWHyWjMZaz6uRGVqkBYVyYgWBuhlsT7eoph4x3samWzMqbzF2Bnny2iwHwhIhJdiYSq%7EVGyK1cer3s0qhJJENUnwmA__&Key-Pair-Id=KVTP0A1DKRTAX\n",
            "Resolving cdn-lfs.huggingface.co (cdn-lfs.huggingface.co)... 54.192.150.19, 54.192.150.69, 54.192.150.21, ...\n",
            "Connecting to cdn-lfs.huggingface.co (cdn-lfs.huggingface.co)|54.192.150.19|:443... connected.\n",
            "HTTP request sent, awaiting response... 200 OK\n",
            "Length: 252841413 (241M) [binary/octet-stream]\n",
            "Saving to: ‘HiREST_BEST.pth’\n",
            "\n",
            "HiREST_BEST.pth     100%[===================>] 241.13M  18.8MB/s    in 15s     \n",
            "\n",
            "2023-03-28 17:28:14 (16.4 MB/s) - ‘HiREST_BEST.pth’ saved [252841413/252841413]\n",
            "\n"
          ]
        }
      ],
      "source": [
        "# Pretrained CLIP4Caption\n",
        "!gdown https://drive.google.com/uc?id=17p476sL5_KZoQ2h4e1TU7-qWH4VqzReT\n",
        "!mv clip4caption_vit-b-32_model.bin ./pretrained_weights/clip4caption_vit-b-32_model.bin\n",
        "\n",
        "# EVA-CLIP-G (frozen visual/textual encoder)\n",
        "!wget https://huggingface.co/BAAI/EVA/resolve/main/eva_clip_psz14.pt\n",
        "!mv eva_clip_psz14.pt ./pretrained_weights/eva_clip_psz14.pt\n",
        "\n",
        "# Finetuned HiREST joint baseline model\n",
        "!wget https://huggingface.co/j-min/HiREST-baseline/resolve/main/HiREST_BEST.pth\n",
        "!mv HiREST_BEST.pth ./checkpoints/hirest_joint_model/BEST.pth"
      ]
    },
    {
      "cell_type": "markdown",
      "metadata": {
        "id": "oQYUjAUtGACi"
      },
      "source": [
        "# Create Data Dirs"
      ]
    },
    {
      "cell_type": "code",
      "execution_count": null,
      "metadata": {
        "id": "TggkgwoEGACj"
      },
      "outputs": [],
      "source": [
        "!mkdir custom_video_pipeline/\n",
        "!mkdir custom_video_pipeline/data\n",
        "!mkdir custom_video_pipeline/data/eva_clip_features/\n",
        "!mkdir custom_video_pipeline/data/ASR_feats_all-MiniLM-L6-v2/\n",
        "!mkdir custom_video_pipeline/data/ASR/\n",
        "!mkdir custom_video_pipeline/data/raw_frames/\n",
        "!mkdir custom_video_pipeline/data/audio/\n",
        "!mkdir custom_video_pipeline/data/splits/\n",
        "!mkdir custom_video_pipeline/data/videos/"
      ]
    },
    {
      "cell_type": "markdown",
      "metadata": {
        "id": "X-aNBi5NGACj"
      },
      "source": [
        "# Download a sample video"
      ]
    },
    {
      "cell_type": "code",
      "execution_count": null,
      "metadata": {
        "id": "A6IgKwjcGACj",
        "outputId": "576c7ef0-3ffe-43fa-efbf-ccc809002b03",
        "colab": {
          "base_uri": "https://localhost:8080/"
        }
      },
      "outputs": [
        {
          "output_type": "stream",
          "name": "stdout",
          "text": [
            "--2023-03-28 17:30:11--  https://huggingface.co/j-min/HiREST-baseline/resolve/main/4Gx9W0XFAkA.mp4\n",
            "Resolving huggingface.co (huggingface.co)... 35.173.225.216, 34.203.133.210, 52.2.178.255, ...\n",
            "Connecting to huggingface.co (huggingface.co)|35.173.225.216|:443... connected.\n",
            "HTTP request sent, awaiting response... 302 Found\n",
            "Location: https://cdn-lfs.huggingface.co/repos/43/e5/43e5477f8142d4d657272c2d83709064f52cea70061d7f463fe4e9973cc4707b/89fe3b10d4318445d42460c0614dc258a94707214e5498bc344eafc7d85131b8?response-content-disposition=attachment%3B+filename*%3DUTF-8%27%274Gx9W0XFAkA.mp4%3B+filename%3D%224Gx9W0XFAkA.mp4%22%3B&response-content-type=video%2Fmp4&Expires=1680283813&Policy=eyJTdGF0ZW1lbnQiOlt7IlJlc291cmNlIjoiaHR0cHM6Ly9jZG4tbGZzLmh1Z2dpbmdmYWNlLmNvL3JlcG9zLzQzL2U1LzQzZTU0NzdmODE0MmQ0ZDY1NzI3MmMyZDgzNzA5MDY0ZjUyY2VhNzAwNjFkN2Y0NjNmZTRlOTk3M2NjNDcwN2IvODlmZTNiMTBkNDMxODQ0NWQ0MjQ2MGMwNjE0ZGMyNThhOTQ3MDcyMTRlNTQ5OGJjMzQ0ZWFmYzdkODUxMzFiOD9yZXNwb25zZS1jb250ZW50LWRpc3Bvc2l0aW9uPSomcmVzcG9uc2UtY29udGVudC10eXBlPSoiLCJDb25kaXRpb24iOnsiRGF0ZUxlc3NUaGFuIjp7IkFXUzpFcG9jaFRpbWUiOjE2ODAyODM4MTN9fX1dfQ__&Signature=NhTIBPnEp6vFz9Qjs2HW5d4Mxi9PIdaHjRo8eNV8S0-Tq9GiSNSCFlevKvEtv0Z2RUREcOW%7EoAOXqtM9MUwj%7ETK3mu9mMiNlgbjNVteR7-DfuHP4xhoiX%7EqjsmzOsvJWULHaDMSm-7Ahvtzlft17LaBhvsNXZUJbQ7CFONl4YwzCWQZGZy3Fc7AqO2IrO-WmZNuS1wX4kX1KSLVwNV%7Ejgams4H4sBDZJ17LgUGMBopjMC1B1xgXTOv7P1bm2NUxPdGixQYKPRutnSqOhHeZ5lOI7fwfYtN52mUEi78Ta4wySph9P3skkoie8Q-2yH3VBM-lhbmI4EuYEQeA%7EVz0LMQ__&Key-Pair-Id=KVTP0A1DKRTAX [following]\n",
            "--2023-03-28 17:30:12--  https://cdn-lfs.huggingface.co/repos/43/e5/43e5477f8142d4d657272c2d83709064f52cea70061d7f463fe4e9973cc4707b/89fe3b10d4318445d42460c0614dc258a94707214e5498bc344eafc7d85131b8?response-content-disposition=attachment%3B+filename*%3DUTF-8%27%274Gx9W0XFAkA.mp4%3B+filename%3D%224Gx9W0XFAkA.mp4%22%3B&response-content-type=video%2Fmp4&Expires=1680283813&Policy=eyJTdGF0ZW1lbnQiOlt7IlJlc291cmNlIjoiaHR0cHM6Ly9jZG4tbGZzLmh1Z2dpbmdmYWNlLmNvL3JlcG9zLzQzL2U1LzQzZTU0NzdmODE0MmQ0ZDY1NzI3MmMyZDgzNzA5MDY0ZjUyY2VhNzAwNjFkN2Y0NjNmZTRlOTk3M2NjNDcwN2IvODlmZTNiMTBkNDMxODQ0NWQ0MjQ2MGMwNjE0ZGMyNThhOTQ3MDcyMTRlNTQ5OGJjMzQ0ZWFmYzdkODUxMzFiOD9yZXNwb25zZS1jb250ZW50LWRpc3Bvc2l0aW9uPSomcmVzcG9uc2UtY29udGVudC10eXBlPSoiLCJDb25kaXRpb24iOnsiRGF0ZUxlc3NUaGFuIjp7IkFXUzpFcG9jaFRpbWUiOjE2ODAyODM4MTN9fX1dfQ__&Signature=NhTIBPnEp6vFz9Qjs2HW5d4Mxi9PIdaHjRo8eNV8S0-Tq9GiSNSCFlevKvEtv0Z2RUREcOW%7EoAOXqtM9MUwj%7ETK3mu9mMiNlgbjNVteR7-DfuHP4xhoiX%7EqjsmzOsvJWULHaDMSm-7Ahvtzlft17LaBhvsNXZUJbQ7CFONl4YwzCWQZGZy3Fc7AqO2IrO-WmZNuS1wX4kX1KSLVwNV%7Ejgams4H4sBDZJ17LgUGMBopjMC1B1xgXTOv7P1bm2NUxPdGixQYKPRutnSqOhHeZ5lOI7fwfYtN52mUEi78Ta4wySph9P3skkoie8Q-2yH3VBM-lhbmI4EuYEQeA%7EVz0LMQ__&Key-Pair-Id=KVTP0A1DKRTAX\n",
            "Resolving cdn-lfs.huggingface.co (cdn-lfs.huggingface.co)... 54.192.150.19, 54.192.150.21, 54.192.150.84, ...\n",
            "Connecting to cdn-lfs.huggingface.co (cdn-lfs.huggingface.co)|54.192.150.19|:443... connected.\n",
            "HTTP request sent, awaiting response... 200 OK\n",
            "Length: 55181372 (53M) [video/mp4]\n",
            "Saving to: ‘4Gx9W0XFAkA.mp4’\n",
            "\n",
            "4Gx9W0XFAkA.mp4     100%[===================>]  52.62M  12.6MB/s    in 4.2s    \n",
            "\n",
            "2023-03-28 17:30:18 (12.6 MB/s) - ‘4Gx9W0XFAkA.mp4’ saved [55181372/55181372]\n",
            "\n"
          ]
        }
      ],
      "source": [
        "!wget https://huggingface.co/j-min/HiREST-baseline/resolve/main/4Gx9W0XFAkA.mp4\n",
        "!mv 4Gx9W0XFAkA.mp4 ./custom_video_pipeline/data/videos/4Gx9W0XFAkA.mp4"
      ]
    },
    {
      "cell_type": "markdown",
      "metadata": {
        "id": "Cne8gLsrGACj"
      },
      "source": [
        "# Create Video Data Structure"
      ]
    },
    {
      "cell_type": "code",
      "execution_count": null,
      "metadata": {
        "id": "aMvWb68_GACk"
      },
      "outputs": [],
      "source": [
        "import json"
      ]
    },
    {
      "cell_type": "code",
      "execution_count": null,
      "metadata": {
        "id": "-dlhP7x_GACk"
      },
      "outputs": [],
      "source": [
        "data = {\n",
        "    \"Make Butter Biscuits\": {\n",
        "        \"4Gx9W0XFAkA.mp4\": {\n",
        "            \"relevant\": True,\n",
        "            \"clip\": True,\n",
        "            \"v_duration\": 299.73,\n",
        "            \"bounds\": [ 0, 1 ],\n",
        "            \"steps\": [ ]\n",
        "        }\n",
        "    }\n",
        "}\n",
        "\n",
        "with open(\"./custom_video_pipeline/data/splits/all_data_test.json\", 'w') as f:\n",
        "    json.dump(data, f)"
      ]
    },
    {
      "cell_type": "markdown",
      "metadata": {
        "id": "OnHr1-8mGACk"
      },
      "source": [
        "# Extract ASR Features\n",
        "*Note: Due to slight randomness with Whisper, ASR results may vary between runs"
      ]
    },
    {
      "cell_type": "code",
      "execution_count": null,
      "metadata": {
        "id": "MbDcRrmpGACk",
        "outputId": "8a102924-975f-4c04-a452-17264da94049",
        "colab": {
          "base_uri": "https://localhost:8080/"
        }
      },
      "outputs": [
        {
          "output_type": "stream",
          "name": "stdout",
          "text": [
            "Extracting audio from videos...\n",
            "Found 1 videos at custom_video_pipeline/data/videos\n",
            "Will save audio to custom_video_pipeline/data/audio\n",
            "Multiprocessing with 1 workers\n",
            "  0% 0/1 [00:00<?, ?it/s]size=    9367kB time=00:04:59.74 bitrate= 256.0kbits/s speed= 659x    \n",
            "100% 1/1 [00:01<00:00,  1.27s/it]\n"
          ]
        }
      ],
      "source": [
        "!python ./extraction/whisper_ASR/extract_audio.py --workers 1 --data_path ./custom_video_pipeline/data/splits/all_data_test.json --save_path ./custom_video_pipeline/data/audio/ --video_path ./custom_video_pipeline/data/videos/"
      ]
    },
    {
      "cell_type": "code",
      "execution_count": null,
      "metadata": {
        "id": "vE4J77P-GACl",
        "outputId": "a737ebf0-4f3b-4403-9d30-dc2988d5ca0e",
        "colab": {
          "base_uri": "https://localhost:8080/"
        }
      },
      "outputs": [
        {
          "output_type": "stream",
          "name": "stdout",
          "text": [
            "Namespace(model='small.en', audio_dir='./custom_video_pipeline/data/audio/', asr_dir='./custom_video_pipeline/data/ASR/')\n",
            "100%|███████████████████████████████████████| 461M/461M [00:13<00:00, 36.1MiB/s]\n",
            "Model loaded:  small.en at device cuda:0\n",
            "  0% 0/1 [00:00<?, ?it/s]2023-03-28 17:31:21.234631: W tensorflow/compiler/xla/stream_executor/platform/default/dso_loader.cc:64] Could not load dynamic library 'libnvinfer.so.7'; dlerror: libnvinfer.so.7: cannot open shared object file: No such file or directory; LD_LIBRARY_PATH: /usr/lib64-nvidia\n",
            "2023-03-28 17:31:21.234751: W tensorflow/compiler/xla/stream_executor/platform/default/dso_loader.cc:64] Could not load dynamic library 'libnvinfer_plugin.so.7'; dlerror: libnvinfer_plugin.so.7: cannot open shared object file: No such file or directory; LD_LIBRARY_PATH: /usr/lib64-nvidia\n",
            "2023-03-28 17:31:21.234773: W tensorflow/compiler/tf2tensorrt/utils/py_utils.cc:38] TF-TRT Warning: Cannot dlopen some TensorRT libraries. If you would like to use Nvidia GPU with TensorRT, please make sure the missing libraries mentioned above are installed properly.\n",
            "100% 1/1 [00:47<00:00, 47.56s/it]\n"
          ]
        }
      ],
      "source": [
        "!python ./extraction/whisper_ASR/extract_ASR.py --model small.en --audio_dir ./custom_video_pipeline/data/audio/ --asr_dir ./custom_video_pipeline/data/ASR/"
      ]
    },
    {
      "cell_type": "code",
      "source": [
        "# ASR result\n",
        "!head -n 20 ./custom_video_pipeline/data/ASR/4Gx9W0XFAkA.srt"
      ],
      "metadata": {
        "colab": {
          "base_uri": "https://localhost:8080/"
        },
        "id": "AgCNuMfJRbLo",
        "outputId": "2439fb4d-e811-412e-8eae-12956370432b"
      },
      "execution_count": null,
      "outputs": [
        {
          "output_type": "stream",
          "name": "stdout",
          "text": [
            "1\n",
            "00:00:00,000 --> 00:00:12,320\n",
            "What's up YouTube, y'all know I'm good?\n",
            "\n",
            "2\n",
            "00:00:12,320 --> 00:00:13,320\n",
            "You good?\n",
            "\n",
            "3\n",
            "00:00:13,320 --> 00:00:14,320\n",
            "You good?\n",
            "\n",
            "4\n",
            "00:00:14,320 --> 00:00:15,320\n",
            "I'm good, you good?\n",
            "\n",
            "5\n",
            "00:00:15,320 --> 00:00:16,320\n",
            "Okay good.\n",
            "\n"
          ]
        }
      ]
    },
    {
      "cell_type": "code",
      "execution_count": null,
      "metadata": {
        "id": "8shSJXDsGACl",
        "outputId": "4c34a569-7a3a-4ada-ba14-b8b479ea6843",
        "colab": {
          "base_uri": "https://localhost:8080/"
        }
      },
      "outputs": [
        {
          "output_type": "stream",
          "name": "stdout",
          "text": [
            "Namespace(model='sentence-transformers/all-MiniLM-L6-v2', asr_dir='./custom_video_pipeline/data/ASR/', save_dir='./custom_video_pipeline/data/ASR_feats_all-MiniLM-L6-v2/')\n",
            "Downloading (…)e9125/.gitattributes: 100% 1.18k/1.18k [00:00<00:00, 180kB/s]\n",
            "Downloading (…)_Pooling/config.json: 100% 190/190 [00:00<00:00, 31.3kB/s]\n",
            "Downloading (…)7e55de9125/README.md: 100% 10.6k/10.6k [00:00<00:00, 3.47MB/s]\n",
            "Downloading (…)55de9125/config.json: 100% 612/612 [00:00<00:00, 196kB/s]\n",
            "Downloading (…)ce_transformers.json: 100% 116/116 [00:00<00:00, 44.4kB/s]\n",
            "Downloading (…)125/data_config.json: 100% 39.3k/39.3k [00:00<00:00, 175kB/s]\n",
            "Downloading pytorch_model.bin: 100% 90.9M/90.9M [00:00<00:00, 219MB/s]\n",
            "Downloading (…)nce_bert_config.json: 100% 53.0/53.0 [00:00<00:00, 8.67kB/s]\n",
            "Downloading (…)cial_tokens_map.json: 100% 112/112 [00:00<00:00, 42.2kB/s]\n",
            "Downloading (…)e9125/tokenizer.json: 100% 466k/466k [00:00<00:00, 526kB/s]\n",
            "Downloading (…)okenizer_config.json: 100% 350/350 [00:00<00:00, 113kB/s]\n",
            "Downloading (…)9125/train_script.py: 100% 13.2k/13.2k [00:00<00:00, 4.90MB/s]\n",
            "Downloading (…)7e55de9125/vocab.txt: 100% 232k/232k [00:00<00:00, 347kB/s]\n",
            "Downloading (…)5de9125/modules.json: 100% 349/349 [00:00<00:00, 115kB/s]\n",
            "model loaded:  sentence-transformers/all-MiniLM-L6-v2\n",
            "ASR_feats_dir:  custom_video_pipeline/data/ASR_feats_all-MiniLM-L6-v2\n",
            "100% 1/1 [00:00<00:00,  1.50it/s]\n"
          ]
        }
      ],
      "source": [
        "!python ./extraction/whisper_ASR/extract_ASR_embedding.py --model sentence-transformers/all-MiniLM-L6-v2 --asr_dir ./custom_video_pipeline/data/ASR/ --save_dir ./custom_video_pipeline/data/ASR_feats_all-MiniLM-L6-v2/"
      ]
    },
    {
      "cell_type": "markdown",
      "metadata": {
        "id": "Q79Uqdm-GACl"
      },
      "source": [
        "# Extract Video Features"
      ]
    },
    {
      "cell_type": "code",
      "execution_count": null,
      "metadata": {
        "id": "afy4rzppGACl",
        "outputId": "0dc99cf2-a2cc-4f5d-c1fe-9fbe498ffd9f",
        "colab": {
          "base_uri": "https://localhost:8080/"
        }
      },
      "outputs": [
        {
          "output_type": "stream",
          "name": "stdout",
          "text": [
            "Namespace(workers=1, data_path='./custom_video_pipeline/data/splits/all_data_test.json', save_path='./custom_video_pipeline/data/raw_frames/', video_path='./custom_video_pipeline/data/videos/')\n",
            "CV2 version: 4.7.0\n",
            "Loaded data from ./custom_video_pipeline/data/splits/all_data_test.json\n",
            "Saving frames to custom_video_pipeline/data/raw_frames\n",
            "\r  0% 0/1 [00:00<?, ?it/s]\r100% 1/1 [00:00<00:00, 15420.24it/s]\n",
            "Extracting frames from 1 videos\n",
            "Using 1 worker\n",
            "100% 1/1 [01:23<00:00, 83.81s/it]\n",
            "Done\n"
          ]
        }
      ],
      "source": [
        "# extract video frames in 1fps\n",
        "!python ./extraction/video_features/extract_frames.py --workers 1 --data_path ./custom_video_pipeline/data/splits/all_data_test.json --save_path ./custom_video_pipeline/data/raw_frames/ --video_path ./custom_video_pipeline/data/videos/"
      ]
    },
    {
      "cell_type": "code",
      "execution_count": null,
      "metadata": {
        "id": "jsK8xggiGACl",
        "outputId": "0a32619e-f30f-44df-9a8d-33aed30da422",
        "colab": {
          "base_uri": "https://localhost:8080/"
        }
      },
      "outputs": [
        {
          "output_type": "stream",
          "name": "stdout",
          "text": [
            "Namespace(device=0, slice_start=0, slice_end=-1, frame_path='./custom_video_pipeline/data/raw_frames/', save_path='./custom_video_pipeline/data/eva_clip_features/', batch_size=10)\n",
            "<All keys matched successfully>\n",
            "100% 1/1 [01:00<00:00, 60.51s/it]\n"
          ]
        }
      ],
      "source": [
        "# extract EVA-CLIP-G features\n",
        "!python ./extraction/video_features/extract_features.py --frame_path ./custom_video_pipeline/data/raw_frames/ --save_path ./custom_video_pipeline/data/eva_clip_features/ --batch_size 10"
      ]
    },
    {
      "cell_type": "code",
      "execution_count": null,
      "metadata": {
        "id": "z0GWEqCzGACl",
        "outputId": "f70f969a-caf6-44a7-fe8a-de754a6b4581",
        "colab": {
          "base_uri": "https://localhost:8080/"
        }
      },
      "outputs": [
        {
          "output_type": "stream",
          "name": "stdout",
          "text": [
            "\r  0% 0/1 [00:00<?, ?it/s]\r100% 1/1 [00:00<00:00, 614.82it/s]\n"
          ]
        }
      ],
      "source": [
        "!python ./extraction/video_features/check_feature_size.py --data_file ./custom_video_pipeline/data/splits/all_data_test.json --feature_folder ./custom_video_pipeline/data/eva_clip_features/"
      ]
    },
    {
      "cell_type": "markdown",
      "metadata": {
        "id": "yuzn0FKAGACm"
      },
      "source": [
        "# Run the Model End-to-End for all tasks:\n",
        "\n",
        "moment_retrieval -> moment_segmentation -> step_captioning"
      ]
    },
    {
      "cell_type": "code",
      "execution_count": null,
      "metadata": {
        "id": "ndVfUZuiGACm",
        "outputId": "59fd030d-901c-46c7-8e06-d4f27f5e9c6b",
        "colab": {
          "base_uri": "https://localhost:8080/"
        }
      },
      "outputs": [
        {
          "output_type": "stream",
          "name": "stdout",
          "text": [
            "Namespace(data_dir='./custom_video_pipeline/data/splits/', video_feature_dir='./custom_video_pipeline/data/eva_clip_features', asr_dir='./custom_video_pipeline/data/ASR', asr_feature_dir='./custom_video_pipeline/data/ASR_feats_all-MiniLM-L6-v2', task_moment_retrieval=True, task_moment_segmentation=True, task_step_captioning=True, use_gaussian_blur=False, train_batch_size=32, eval_batch_size=5, clip_grad_norm=-1.0, gradient_accumulation_steps=1, epochs=10, lr=1e-05, weight_decay=0.0, warmup_steps=0.1, seed=2222, optim='adamw', fp16=False, train=False, end_to_end=True, n_model_frames=-1, num_workers=4, distributed=False, device='cuda', num_beams=5, load=None, ckpt_dir='./checkpoints/hirest_joint_model/', comment='', num_thread_reader=16, n_display=16, max_frames_step_captioning=20, max_words=48, visual_num_hidden_layers=2, decoder_num_hidden_layers=2, local_rank=0, gpu=0, world_size=1)\n",
            "Process Launching at GPU 0\n",
            "NLGEval not installed, if you want to train CLIP4Caption,\n",
            "          please install it via pip install git+https://github.com/Maluuba/nlg-eval.git@master\n",
            "tasks: ['moment_retrieval', 'moment_segmentation', 'step_captioning']\n",
            "https://s3.amazonaws.com/models.huggingface.co/bert/bert-base-uncased-vocab.txt\n",
            "100% 407873900/407873900 [00:34<00:00, 11916643.15B/s]\n",
            "Set visual_config.num_hidden_layers: 2.\n",
            "Set decoder_config.num_decoder_layers: 2.\n",
            "Weights from pretrained model cause errors in CaptionGenerator: \n",
            "   size mismatch for visual.embeddings.position_embeddings.weight: copying a param with shape torch.Size([512, 768]) from checkpoint, the shape in current model is torch.Size([2048, 768]).\n",
            "<All keys matched successfully>\n",
            "Loaded EVA CLIP G\n",
            "# total parameters: 1199.62M\n",
            "# trainable parameters: 63.19M\n",
            "Building train loader at GPU 0\n",
            "Building test loader at GPU 0\n",
            "https://s3.amazonaws.com/models.huggingface.co/bert/bert-base-uncased-vocab.txt\n",
            "# moment_retrieval examples: 1\n",
            "/usr/local/lib/python3.9/dist-packages/torch/utils/data/dataloader.py:554: UserWarning: This DataLoader will create 4 worker processes in total. Our suggested max number of worker in current system is 2, which is smaller than what this DataLoader is going to create. Please be aware that excessive worker creation might get DataLoader running slow or even freeze, lower the worker number to avoid potential slowness/freeze if necessary.\n",
            "  warnings.warn(_create_warning_msg(\n",
            "Model Launching at GPU 0\n",
            "It took 3.1s\n",
            "Model loaded from  ./checkpoints/hirest_joint_model/BEST\n",
            "Moment_retrieval Prediction: 100%|████████████████████████████████████████████████████████| 1/1 [00:01<00:00,  1.74s/it]\n",
            "/usr/local/lib/python3.9/dist-packages/numpy/core/fromnumeric.py:3474: RuntimeWarning: Mean of empty slice.\n",
            "  return _methods._mean(a, axis=axis, dtype=dtype,\n",
            "/usr/local/lib/python3.9/dist-packages/numpy/core/_methods.py:189: RuntimeWarning: invalid value encountered in double_scalars\n",
            "  ret = ret.dtype.type(ret / rcount)\n",
            "Saved ./checkpoints/hirest_joint_model/test_moment_retrieval_end_to_end.json\n",
            "https://s3.amazonaws.com/models.huggingface.co/bert/bert-base-uncased-vocab.txt\n",
            "# moment_segmentation examples: 1\n",
            "Moment_segmentation Prediction: 100%|█████████████████████████████████████████████████████| 1/1 [00:00<00:00,  2.01it/s]\n",
            "https://s3.amazonaws.com/models.huggingface.co/bert/bert-base-uncased-vocab.txt\n",
            "# step_captioning examples: 17\n",
            "Step_captioning Prediction: 100%|█████████████████████████████████████████████████████████| 4/4 [00:00<00:00,  4.84it/s]\n",
            "Final results saved too: ./checkpoints/hirest_joint_model//final_end_to_end_results.json !\n"
          ]
        }
      ],
      "source": [
        "!python run.py \\\n",
        "        --data_dir './custom_video_pipeline/data/splits/' \\\n",
        "        --video_feature_dir './custom_video_pipeline/data/eva_clip_features' \\\n",
        "        --asr_dir './custom_video_pipeline/data/ASR' \\\n",
        "        --asr_feature_dir './custom_video_pipeline/data/ASR_feats_all-MiniLM-L6-v2' \\\n",
        "        --eval_batch_size 5 \\\n",
        "        --task_moment_retrieval \\\n",
        "        --task_moment_segmentation \\\n",
        "        --task_step_captioning \\\n",
        "        --ckpt_dir './checkpoints/hirest_joint_model/' \\\n",
        "        --end_to_end"
      ]
    },
    {
      "cell_type": "markdown",
      "metadata": {
        "id": "7T11tKkJGACm"
      },
      "source": [
        "# Print Final Results"
      ]
    },
    {
      "cell_type": "code",
      "execution_count": null,
      "metadata": {
        "id": "uch6-y2RGACm",
        "outputId": "1a75b3df-9982-4ea3-f87f-1c0808e510ab",
        "colab": {
          "base_uri": "https://localhost:8080/"
        }
      },
      "outputs": [
        {
          "output_type": "stream",
          "name": "stdout",
          "text": [
            "Prompt: Make Butter Biscuits\n",
            "Video: 4Gx9W0XFAkA.mp4\n",
            "Retrieved Moment: [35, 250]\n",
            "Segment 0: [35, 47] mix it\n",
            "Segment 1: [47, 52] mix it\n",
            "Segment 2: [52, 64] mix it\n",
            "Segment 3: [64, 73] bake it in oven\n",
            "Segment 4: [73, 78] transfer into plate\n",
            "Segment 5: [78, 93] mix it well\n",
            "Segment 6: [93, 99] mix it\n",
            "Segment 7: [99, 113] mix it\n",
            "Segment 8: [113, 122] mix it\n",
            "Segment 9: [122, 129] bake it in oven\n",
            "Segment 10: [129, 138] repeat the process\n",
            "Segment 11: [138, 143] repeat the process\n",
            "Segment 12: [143, 161] roll it out\n",
            "Segment 13: [161, 166] put it on plate\n",
            "Segment 14: [166, 172] mix it well\n",
            "Segment 15: [172, 180] bake it in oven\n",
            "Segment 16: [180, 187] cut it out\n"
          ]
        }
      ],
      "source": [
        "with open(\"./checkpoints/hirest_joint_model/final_end_to_end_results.json\", 'r') as f:\n",
        "    results = json.load(f)\n",
        "\n",
        "for prompt in results:\n",
        "    print(\"Prompt:\", prompt)\n",
        "    for video in results[prompt]:\n",
        "        print(\"Video:\", video)\n",
        "\n",
        "        print(\"Retrieved Moment:\", results[prompt][video][\"bounds\"])\n",
        "        \n",
        "        for step in results[prompt][video][\"steps\"]:\n",
        "            print(f\"Segment {step['index']}:\", step[\"absolute_bounds\"], step[\"heading\"])"
      ]
    },
    {
      "cell_type": "markdown",
      "source": [
        "# Compare with original video"
      ],
      "metadata": {
        "id": "xtxww6pXcW6t"
      }
    },
    {
      "cell_type": "code",
      "source": [
        "%%html\n",
        "<iframe width=\"560\" height=\"315\" src=\"https://www.youtube.com/embed/4Gx9W0XFAkA\" title=\"YouTube video player\" frameborder=\"0\" allow=\"accelerometer; autoplay; clipboard-write; encrypted-media; gyroscope; picture-in-picture; web-share\" allowfullscreen></iframe>"
      ],
      "metadata": {
        "colab": {
          "base_uri": "https://localhost:8080/",
          "height": 336
        },
        "id": "up4qMIGqbryn",
        "outputId": "8a767c4f-2a0b-44c4-f387-26a259be2bc3"
      },
      "execution_count": null,
      "outputs": [
        {
          "output_type": "display_data",
          "data": {
            "text/plain": [
              "<IPython.core.display.HTML object>"
            ],
            "text/html": [
              "<iframe width=\"560\" height=\"315\" src=\"https://www.youtube.com/embed/4Gx9W0XFAkA\" title=\"YouTube video player\" frameborder=\"0\" allow=\"accelerometer; autoplay; clipboard-write; encrypted-media; gyroscope; picture-in-picture; web-share\" allowfullscreen></iframe>\n"
            ]
          },
          "metadata": {}
        }
      ]
    }
  ],
  "metadata": {
    "kernelspec": {
      "display_name": "Python 3",
      "language": "python",
      "name": "python3"
    },
    "language_info": {
      "codemirror_mode": {
        "name": "ipython",
        "version": 3
      },
      "file_extension": ".py",
      "mimetype": "text/x-python",
      "name": "python",
      "nbconvert_exporter": "python",
      "pygments_lexer": "ipython3",
      "version": "3.8.16"
    },
    "orig_nbformat": 4,
    "colab": {
      "provenance": [],
      "include_colab_link": true
    },
    "accelerator": "GPU",
    "gpuClass": "standard"
  },
  "nbformat": 4,
  "nbformat_minor": 0
}